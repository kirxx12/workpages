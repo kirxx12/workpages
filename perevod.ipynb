{
  "cells": [
    {
      "cell_type": "markdown",
      "metadata": {
        "id": "_d_d_EjdWY9u"
      },
      "source": [
        "# **Системы счисления**\n",
        "\n",
        "\n",
        "**Оглавление:**\n",
        "*   Встроенные функции\n",
        "*   Перевод в другие СС ниже 10\n",
        "*   Оформляем в виде функции\n",
        "\n",
        "\n",
        "Периодически, возникает необходимость перевести число из ***десятичной*** СС в какую-либо другую, для этого есть несколько методов и все их мы разберем\n",
        "\n",
        "\n",
        "\n",
        "\n"
      ]
    },
    {
      "cell_type": "markdown",
      "metadata": {
        "id": "G-RwPiKKX2Ut"
      },
      "source": [
        "***Данный блок является служебным***"
      ]
    },
    {
      "cell_type": "code",
      "execution_count": 1,
      "metadata": {
        "id": "JMDeuFy3WYB5"
      },
      "outputs": [],
      "source": [
        "import random\n",
        "\n",
        "sample = random.randint(10, 1000)\n",
        "\n",
        "dz_1 = random.randint(10, 1000)\n",
        "dz_2 = random.randint(10, 1000)\n",
        "dz_3 = random.randint(10, 1000)"
      ]
    },
    {
      "cell_type": "markdown",
      "metadata": {
        "id": "XtCh6EIaZoRf"
      },
      "source": [
        "# **1. Встроенные функции**\n",
        "\n",
        "Для перевода в СС с основанием 2, 8 и 16 уже существуют функции, которые встроены в язык, имеюшие свой недостаток. В качестве возвращаемого объекта выступает строка, содержащая в себе переведенное число:\n",
        "\n",
        "\n",
        "\n",
        "\n"
      ]
    },
    {
      "cell_type": "code",
      "execution_count": 2,
      "metadata": {
        "colab": {
          "base_uri": "https://localhost:8080/",
          "height": 36
        },
        "id": "tr5ciOkgV8sC",
        "outputId": "7d08ada4-df09-4dd1-c8f9-2e1bb205b3fa"
      },
      "outputs": [
        {
          "data": {
            "text/plain": [
              "'0b110001010'"
            ]
          },
          "execution_count": 2,
          "metadata": {},
          "output_type": "execute_result"
        }
      ],
      "source": [
        "bin(sample)"
      ]
    },
    {
      "cell_type": "markdown",
      "metadata": {
        "id": "yxDl-wqVW4cw"
      },
      "source": [
        "Как вы могли заметитить, в строке встречаются и лишние символы: первый `0` отвечает за незначащие нули, а буква после `0` отвечает за основание СС, в которой находится переведенное число. В нашем случае, `b` - `binary` - бинарная СС. Поэтому следует вспомнить о срезах - после переменной\\строки в квадратных скобках можно указать параметры среза:\n",
        "\n",
        "\n",
        "\n",
        "```\n",
        "example = bin(sample) # Тут находится строка\n",
        "example[a, b, c]\n",
        "```\n",
        "\n",
        "Тут параметры `a`, `b`, `c` отвечают за начало, конец и шаг соотвественно, ровно так же как и у функции `range()`. Стоит так же упомянуть, что такой срез задает промежуток по индексам с границами `[a, b)`, то есть, индекс b не включен.\n"
      ]
    },
    {
      "cell_type": "code",
      "execution_count": null,
      "metadata": {
        "id": "LNOgjDV3YPMP"
      },
      "outputs": [],
      "source": [
        "example = bin(16) # 0b10000\n",
        "                  # 0123456 - индексы для данной строки, нам не нужны элементы под индексами 0 и 1\n",
        "example = example[2:]"
      ]
    },
    {
      "cell_type": "markdown",
      "metadata": {
        "id": "DYHXuXrQYlo4"
      },
      "source": [
        "Причем, тут я не указал параметры `b` и `с`, а это значит, что берутся дефолтные значения, то есть для `b` - вплоть до самого конца строки, для `c` - шаг в 1 символ"
      ]
    },
    {
      "cell_type": "markdown",
      "metadata": {
        "id": "Fpginm-mZTh8"
      },
      "source": [
        "Так же, существуб функции для перевода в 8 и 16 СС - `oct()` и `hex()`, соотвественно, с теми же особенностями:"
      ]
    },
    {
      "cell_type": "code",
      "execution_count": 3,
      "metadata": {
        "colab": {
          "base_uri": "https://localhost:8080/"
        },
        "id": "AIk_e5_GZZHO",
        "outputId": "816b8bba-52ff-4a57-ec82-36cffbfcb03c"
      },
      "outputs": [
        {
          "name": "stdout",
          "output_type": "stream",
          "text": [
            "0o1444\n",
            "0x324\n"
          ]
        }
      ],
      "source": [
        "print(oct(sample))\n",
        "print(hex(sample))"
      ]
    },
    {
      "cell_type": "markdown",
      "metadata": {
        "id": "DWU25fRuZ9xj"
      },
      "source": [
        "В случае, если нам необходимо перевести в 10 СС, мы используем функцию `int()`, так как, она из любой строки, которая является числом в какой либо СС переводит число в 10 СС, но для этого нам необходимо указать второй параметр - основание СС, из которой мы переводим в целое число"
      ]
    },
    {
      "cell_type": "code",
      "execution_count": 5,
      "metadata": {
        "colab": {
          "base_uri": "https://localhost:8080/"
        },
        "id": "rrm7xXrgar4S",
        "outputId": "9251c643-7f53-437c-815d-29ca4af53e24"
      },
      "outputs": [
        {
          "name": "stdout",
          "output_type": "stream",
          "text": [
            "804\n",
            "1444\n",
            "804\n"
          ]
        }
      ],
      "source": [
        "print(sample)\n",
        "example = oct(sample)[2:]\n",
        "print(example)\n",
        "example = int(example, 8)\n",
        "print(example)"
      ]
    },
    {
      "cell_type": "markdown",
      "metadata": {
        "id": "WqusMOUibR6E"
      },
      "source": [
        "# **2. Перевод в другие СС ниже 10**\n",
        "\n",
        "Но, к сожалению, не существует функций, которые переводят числа в иные СС, а значит, напишем свою:\n",
        "\n",
        "\n"
      ]
    },
    {
      "cell_type": "code",
      "execution_count": 6,
      "metadata": {
        "colab": {
          "base_uri": "https://localhost:8080/"
        },
        "id": "P5GyoH_VbfeS",
        "outputId": "d95ebc90-db0a-491c-817b-97c8d696f2fe"
      },
      "outputs": [
        {
          "name": "stdout",
          "output_type": "stream",
          "text": [
            "1444\n",
            "0o1444\n"
          ]
        }
      ],
      "source": [
        "example = sample\n",
        "osn = 8\n",
        "itog = ''\n",
        "while example > 0:\n",
        "  ost = str(example % osn)\n",
        "  itog = ost + itog # Мы добавляем itog к osn, чтобы осуществить разворот строки\n",
        "  example //= osn\n",
        "print(itog)\n",
        "print(oct(sample))"
      ]
    },
    {
      "cell_type": "markdown",
      "metadata": {
        "id": "AlPbxgbDcrF7"
      },
      "source": [
        "# **3. Оформляем в виде функции**\n",
        "\n",
        "А код, что будет написан ниже, стоит запомнить, так как мы часто будем использовать подобную функцию, а значит, надо будет помнить, как ее реализовать. В данном мы используем так же переменную `ascii_uppercase`, которая содержит весь латинский алфавит в заглавном регистре, это нам необходимо для воссоздания всех цифр выше 9.\n"
      ]
    },
    {
      "cell_type": "code",
      "execution_count": 7,
      "metadata": {
        "colab": {
          "base_uri": "https://localhost:8080/"
        },
        "id": "Pd-EIYPGa2rW",
        "outputId": "62527d05-83f2-4ba8-ca4d-21b9664a7283"
      },
      "outputs": [
        {
          "name": "stdout",
          "output_type": "stream",
          "text": [
            "14O\n"
          ]
        }
      ],
      "source": [
        "from string import ascii_uppercase\n",
        "\n",
        "def perevod(n: int, osn: int) -> str:\n",
        "    \"\"\"Переводит число n из 10 в СС с основанием osn\"\"\"\n",
        "\n",
        "    s = ''\n",
        "    alf = '0123456789' + ascii_uppercase # \"0123456789ABCD...\"\n",
        "    while n > 0:\n",
        "        s = s + alf[n % osn]\n",
        "        n = n // osn\n",
        "    return s[::-1]\n",
        "    \n",
        "\n",
        "\n",
        "print(perevod(sample, 26)) # Перевод в 26ую СС"
      ]
    },
    {
      "cell_type": "markdown",
      "metadata": {
        "id": "pfAOcliKejZJ"
      },
      "source": [
        "**Домашнее задание**\n",
        "\n",
        "Вам предоставлены 3 числа, необходмио\n",
        "1. Вывести 2, 8, 16 записи числа, которое находится в переменной dz_1.\n",
        "2. Переведите число в переменной dz_2, в 9ую СС и вывведите его.\n",
        "3. Переведите число в переменной dz_3 в 24ую СС и затем обратно в десятичную."
      ]
    },
    {
      "cell_type": "code",
      "execution_count": 3,
      "metadata": {
        "colab": {
          "base_uri": "https://localhost:8080/"
        },
        "id": "6k4RVf5Ne-En",
        "outputId": "b51a5001-1b1f-436c-d11d-bcd98c930f42"
      },
      "outputs": [
        {
          "name": "stdout",
          "output_type": "stream",
          "text": [
            "697\n",
            "629\n",
            "694\n"
          ]
        }
      ],
      "source": [
        "# Вводные данные находяется в переменных dz_1, dz_2 и dz_3\n",
        "print(dz_1)\n",
        "print(dz_2)\n",
        "print(dz_3)"
      ]
    },
    {
      "cell_type": "code",
      "execution_count": null,
      "metadata": {
        "id": "-56KYTklfLP0"
      },
      "outputs": [],
      "source": [
        "\n",
        "\n",
        "# Введите решение пункта 1 здесь\n",
        "\n"
      ]
    },
    {
      "cell_type": "code",
      "execution_count": null,
      "metadata": {
        "id": "nRtHWGOZfNqw"
      },
      "outputs": [],
      "source": [
        "\n",
        "\n",
        "\n",
        "# Введите решение пункта 2 здесь\n",
        "\n"
      ]
    },
    {
      "cell_type": "code",
      "execution_count": null,
      "metadata": {
        "id": "4kSMfznmfN2d"
      },
      "outputs": [],
      "source": [
        "\n",
        "\n",
        "# Введите решение пункта 3 здесь\n",
        "\n"
      ]
    }
  ],
  "metadata": {
    "colab": {
      "provenance": []
    },
    "kernelspec": {
      "display_name": "Python 3",
      "name": "python3"
    },
    "language_info": {
      "codemirror_mode": {
        "name": "ipython",
        "version": 3
      },
      "file_extension": ".py",
      "mimetype": "text/x-python",
      "name": "python",
      "nbconvert_exporter": "python",
      "pygments_lexer": "ipython3",
      "version": "3.11.3"
    }
  },
  "nbformat": 4,
  "nbformat_minor": 0
}
