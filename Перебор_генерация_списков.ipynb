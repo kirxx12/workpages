{
  "cells": [
    {
      "cell_type": "markdown",
      "metadata": {
        "id": "2Tf9dciyZbPN"
      },
      "source": [
        "# **Перебор и генерация списков**\n",
        "**Особенности синтаксиса**\n",
        "\n",
        "\n",
        "1.   Перебор элементов списка\n",
        "2.   Генератор списков\n",
        "3.   Домашнее задание\n",
        "\n"
      ]
    },
    {
      "cell_type": "markdown",
      "metadata": {
        "id": "_Gbwt17NaDoT"
      },
      "source": [
        "**Перебор элементов списка**"
      ]
    },
    {
      "cell_type": "code",
      "execution_count": 1,
      "metadata": {
        "id": "UKNH1T9TaJfU"
      },
      "outputs": [],
      "source": [
        "import numpy as np"
      ]
    },
    {
      "cell_type": "code",
      "execution_count": 3,
      "metadata": {
        "colab": {
          "base_uri": "https://localhost:8080/"
        },
        "id": "CYFdPzH8aNQd",
        "outputId": "21f5ec19-f4ef-49bf-a7f2-16424afe59fd"
      },
      "outputs": [
        {
          "name": "stdout",
          "output_type": "stream",
          "text": [
            "[78, 61, 71, 9, 63, 98, 42, 11, 96, 68, 20, 67, 99, 21, 85, 70, 22, 18, 95, 34, 44, 66, 44, 0, 26]\n"
          ]
        }
      ],
      "source": [
        "rng = np.random.default_rng(seed=21)\n",
        "arr = [round(i * 100) for i in rng.random(25)]\n",
        "print(arr)"
      ]
    },
    {
      "cell_type": "markdown",
      "metadata": {
        "id": "Rx2txbXzba6I"
      },
      "source": [
        "**Перебор по индексу**\n",
        "\n",
        "*`range(a, b, c)` - функция, возвращающая список элементов. в промежутке `[a, b)` с шаком в c*\n",
        "\n",
        "Применимые конструкции:\n",
        "\n",
        "`range(b)` - перебор от нуля до b, не включая b, с шагом 1\n",
        "\n",
        "`range(a, b)` перебор от a до b, не включая b, с шагом 1\n",
        "\n"
      ]
    },
    {
      "cell_type": "code",
      "execution_count": null,
      "metadata": {
        "id": "LNaTmCpzbZK_"
      },
      "outputs": [],
      "source": [
        "for i in range(0, len(arr), 1):\n",
        "  print(arr[i])"
      ]
    },
    {
      "cell_type": "markdown",
      "metadata": {
        "id": "xZnnscOlcgAd"
      },
      "source": [
        "**Перебор по элементам**\n",
        "\n",
        "`for element in spisok:`\n",
        "Таким образом перебираются непосредственно элементы в списке, без указания их индексов"
      ]
    },
    {
      "cell_type": "code",
      "execution_count": null,
      "metadata": {
        "id": "fxMZHXz4cbyN"
      },
      "outputs": [],
      "source": [
        "for i in arr:\n",
        "  print(i)"
      ]
    },
    {
      "cell_type": "markdown",
      "metadata": {
        "id": "TgpZsWK9dY7R"
      },
      "source": [
        "**Генерация списков**\n",
        "\n",
        "Применимы классические алгоритмы и их структуры\n",
        "\n",
        "`sp = [object_true for object in list_object if condition == True else object_false]`"
      ]
    },
    {
      "cell_type": "code",
      "execution_count": null,
      "metadata": {
        "colab": {
          "base_uri": "https://localhost:8080/"
        },
        "id": "G1yFdr9ucQ-R",
        "outputId": "a35cfa67-1b95-4789-f47b-24fcd83e715f"
      },
      "outputs": [
        {
          "name": "stdout",
          "output_type": "stream",
          "text": [
            "[0, 2, 4, 6, 8]\n"
          ]
        }
      ],
      "source": [
        "object_list = [i for i in range(10)] # Создание списка с числами от 0 до 99\n",
        "chet_object_list = [i for i in object_list if i % 2 == 0]\n",
        "print(chet_object_list)"
      ]
    },
    {
      "cell_type": "markdown",
      "metadata": {
        "id": "Ue9LLmvDeMu-"
      },
      "source": [
        "# Домашнее задание\n",
        "\n",
        "**Задание № 1:**\n",
        "\n",
        "*Дан список `arr`, необходимо вывести из него только четные элементы, оканчивающиеся на 4*"
      ]
    },
    {
      "cell_type": "code",
      "execution_count": null,
      "metadata": {
        "id": "RQ7K4BJneLo0"
      },
      "outputs": [],
      "source": [
        "# Пиши свой код здесь"
      ]
    },
    {
      "cell_type": "markdown",
      "metadata": {
        "id": "UWlPKKtZe5N_"
      },
      "source": [
        "**Задание № 2:**\n",
        "\n",
        "*Повторить задание № 1, но вместо вывода элементво, их необходимо поместить в новый список `chet_arr` с помощью генерации списков*"
      ]
    },
    {
      "cell_type": "code",
      "execution_count": null,
      "metadata": {
        "id": "pwYUtFWKe3uK"
      },
      "outputs": [],
      "source": [
        "# Пиши свой код здесь"
      ]
    }
  ],
  "metadata": {
    "colab": {
      "provenance": []
    },
    "kernelspec": {
      "display_name": "Python 3",
      "name": "python3"
    },
    "language_info": {
      "codemirror_mode": {
        "name": "ipython",
        "version": 3
      },
      "file_extension": ".py",
      "mimetype": "text/x-python",
      "name": "python",
      "nbconvert_exporter": "python",
      "pygments_lexer": "ipython3",
      "version": "3.11.3"
    }
  },
  "nbformat": 4,
  "nbformat_minor": 0
}
