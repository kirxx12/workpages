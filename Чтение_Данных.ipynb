{
  "cells": [
    {
      "cell_type": "markdown",
      "metadata": {
        "id": "_d_d_EjdWY9u"
      },
      "source": [
        "# **Чтение данных**\n",
        "\n",
        "\n",
        "**Оглавление:**\n",
        "*   Считывание из терминала\n",
        "*   Числа разделенные пробеломb и строковый метод ```.split(arg)```\n",
        "*   Операции с данными с использованием функции ```map``` или генератора списков\n"
      ]
    },
    {
      "cell_type": "markdown",
      "metadata": {},
      "source": [
        "\n",
        "\n",
        "Во многиз задачах экзаменов или олимпиад, решаемых с помощью программирования, требуется знать и понимать как осуществляется ввод данных.\n"
      ]
    },
    {
      "cell_type": "markdown",
      "metadata": {
        "id": "G-RwPiKKX2Ut"
      },
      "source": [
        "***Данный блок является служебным***"
      ]
    },
    {
      "cell_type": "code",
      "execution_count": 1,
      "metadata": {
        "id": "JMDeuFy3WYB5"
      },
      "outputs": [],
      "source": [
        "import random\n",
        "\n",
        "sample = [random.randint(1, 1000) for i in range(10)]\n",
        "data_1 = str(sample[5])\n",
        "data_2 = ' '.join([str(i) for i in sample])\n",
        "sample = [random.randint(1, 1000) for i in range(10)]\n",
        "dz_1 = ' '.join([str(i) for i in sample])\n",
        "sample = [random.randint(1, 1000) for i in range(10)]\n",
        "dz_2 = ' '.join([str(i) for i in sample])\n",
        "sample = [random.randint(1, 1000) for i in range(10)]\n",
        "dz_3 = ' '.join([str(i) for i in sample])"
      ]
    },
    {
      "cell_type": "markdown",
      "metadata": {
        "id": "XtCh6EIaZoRf"
      },
      "source": [
        "# **1. Считывание из терминала**\n",
        "\n",
        "Для считывания данных из терминала используется функция ```input()```, в которую в качестве аргумента, можно передать сообщение, которое будет выведено пользователю, при запуске программы.\n",
        "\n",
        "Пример работы:\n",
        "```\n",
        "a = input('Введите число a: ') # Предположим, что пользователь введет число 15\n",
        "print(a) # Будет выведено только значение переменной а, то есть - '15'\n",
        "```\n",
        "\n",
        "Причем, в примере мы вводим вроде бы и число, но переменная имеет тип ```str```, так как функция ```input()``` всегда возвращает введеные данные в формате ```str```\n",
        "\n",
        "Поэтому при считывании чисел часто можно увидеть конструкцию вида: ```int(input())```, которая позволяет введенное число сразу привести к целочисленному виду\n",
        "\n",
        "Но есть нюанс: функция ```int()``` позволяет перевести строку в число, только если в нем не используется никаких иных символов кроме всех арабских цифр, поэтому такая конструкция позволяет ввести только одно число единоразово\n",
        "\n",
        "\n",
        "\n",
        "\n"
      ]
    },
    {
      "cell_type": "markdown",
      "metadata": {
        "id": "WqusMOUibR6E"
      },
      "source": [
        "# **2. Числа разделенные пробелом и строковый метод ```.split(arg)```**\n",
        "\n",
        "Если нам необходимо считать ряд чисел, которые разделены пробелом, то может использоваться строковый метод ```.split(arg)```, который разделяет строку по символу введенному в качестве аргумента и возвращает список\n",
        "\n",
        "*Пример работы:*\n",
        "```\n",
        "a = input('Введите число a: ').split(' ') # Предположим, что пользователь введет строку - '15 14'\n",
        "print(a) # Будет выведено только значение переменной а, то есть - ['15', '14']\n",
        "```\n",
        "\n",
        "\n"
      ]
    },
    {
      "cell_type": "markdown",
      "metadata": {
        "id": "AlPbxgbDcrF7"
      },
      "source": [
        "# **3. Операции с данными с использованием функции `map` или генератора списков**\n",
        "\n",
        "Предположим, что у нас есть уже введенная строка, которую мы разделили по пробелу с помощью `split`\n"
      ]
    },
    {
      "cell_type": "code",
      "execution_count": null,
      "metadata": {
        "colab": {
          "base_uri": "https://localhost:8080/"
        },
        "id": "Pd-EIYPGa2rW",
        "outputId": "28c448d0-efcd-4a04-b984-096dbe68f150"
      },
      "outputs": [
        {
          "name": "stdout",
          "output_type": "stream",
          "text": [
            "['987', '855', '216', '413', '980', '473', '569', '283', '923', '812']\n"
          ]
        }
      ],
      "source": [
        "example = data_2.split(' ')\n",
        "print(example)"
      ]
    },
    {
      "cell_type": "markdown",
      "metadata": {
        "id": "sZqy2EcTdM8h"
      },
      "source": [
        "Теперь нам необходимо перевести все числа в этом списке в целочисленный тип данных, что можно сделать разными способами\n",
        "\n",
        "1. Обычный цикл `for`:"
      ]
    },
    {
      "cell_type": "code",
      "execution_count": null,
      "metadata": {
        "colab": {
          "base_uri": "https://localhost:8080/"
        },
        "id": "eyTN3X4BdHvv",
        "outputId": "b818d895-cf61-4b26-f246-71aee1acdbb1"
      },
      "outputs": [
        {
          "name": "stdout",
          "output_type": "stream",
          "text": [
            "[987, 855, 216, 413, 980, 473, 569, 283, 923, 812]\n"
          ]
        }
      ],
      "source": [
        "int_first = example\n",
        "for i in range(len(int_first)):\n",
        "  int_first[i] = int(int_first[i])\n",
        "print(int_first)"
      ]
    },
    {
      "cell_type": "markdown",
      "metadata": {
        "id": "yq1-tLvEdpC2"
      },
      "source": [
        "2. C помощью генерации списков:"
      ]
    },
    {
      "cell_type": "code",
      "execution_count": null,
      "metadata": {
        "colab": {
          "base_uri": "https://localhost:8080/"
        },
        "id": "AqhCAFrjdsf6",
        "outputId": "1db1a639-7384-473c-b4b6-f81f3fd5419c"
      },
      "outputs": [
        {
          "name": "stdout",
          "output_type": "stream",
          "text": [
            "[987, 855, 216, 413, 980, 473, 569, 283, 923, 812]\n"
          ]
        }
      ],
      "source": [
        "int_second = example\n",
        "int_second = [int(i) for i in int_second]\n",
        "print(int_second)"
      ]
    },
    {
      "cell_type": "markdown",
      "metadata": {
        "id": "50Ge0nkUd2zq"
      },
      "source": [
        "3. С помощью функции `map`"
      ]
    },
    {
      "cell_type": "code",
      "execution_count": null,
      "metadata": {
        "colab": {
          "base_uri": "https://localhost:8080/"
        },
        "id": "3BJ0UOOxd8GJ",
        "outputId": "859f6c9c-d00e-42b1-85bc-964bbb2eb04b"
      },
      "outputs": [
        {
          "name": "stdout",
          "output_type": "stream",
          "text": [
            "[987, 855, 216, 413, 980, 473, 569, 283, 923, 812]\n"
          ]
        }
      ],
      "source": [
        "int_third = example\n",
        "int_third = list(map(int, int_third))\n",
        "print(int_third)"
      ]
    },
    {
      "cell_type": "markdown",
      "metadata": {
        "id": "x-nk_sZjeFKG"
      },
      "source": [
        "Причем, в последнем случае важно отметить:\n",
        "1. Внутрь функции `map` первым аргументом мы передаем функцию которую нужно применить к каждому элементу списка `int_third`, но не вызываем ее, т е не ставим скобки после названия функции\n",
        "2. Функция map возвращает нечитабельный объект, поэтому мы явно переводим этот объект к типу данных `list` с использованием функции `list()`"
      ]
    },
    {
      "cell_type": "markdown",
      "metadata": {
        "id": "pfAOcliKejZJ"
      },
      "source": [
        "**Домашнее задание**\n",
        "\n",
        "Вам предоставлена строка, содержащая числа, разделенные пробелом, вам необходимо реализовать:\n",
        "1. Перевод всех чисел в этой строке к типу `int` с помощью цикла `for`\n",
        "2. Перевод всех чисел в этой строке к типу `int` с помощью генерации списков\n",
        "3. Перевод всех чисел в этой строке к типу `int` с помощью функции `map()`"
      ]
    },
    {
      "cell_type": "code",
      "execution_count": null,
      "metadata": {
        "colab": {
          "base_uri": "https://localhost:8080/"
        },
        "id": "6k4RVf5Ne-En",
        "outputId": "8914f132-5841-445a-d0ca-2635700da4b5"
      },
      "outputs": [
        {
          "name": "stdout",
          "output_type": "stream",
          "text": [
            "724 732 448 786 910 526 821 506 924 597\n",
            "261 151 60 693 600 883 335 169 56 772\n",
            "282 724 713 124 736 52 801 610 908 225\n"
          ]
        }
      ],
      "source": [
        "# Вводные данные находяется в переменных dz_1, dz_2 и dz_3\n",
        "print(dz_1)\n",
        "print(dz_2)\n",
        "print(dz_3)"
      ]
    },
    {
      "cell_type": "code",
      "execution_count": null,
      "metadata": {
        "id": "-56KYTklfLP0"
      },
      "outputs": [],
      "source": [
        "\n",
        "\n",
        "# Введите решение пункта 1 здесь\n",
        "\n"
      ]
    },
    {
      "cell_type": "code",
      "execution_count": null,
      "metadata": {
        "id": "nRtHWGOZfNqw"
      },
      "outputs": [],
      "source": [
        "\n",
        "\n",
        "# Введите решение пункта 2 здесь\n",
        "\n"
      ]
    },
    {
      "cell_type": "code",
      "execution_count": null,
      "metadata": {
        "id": "4kSMfznmfN2d"
      },
      "outputs": [],
      "source": [
        "\n",
        "\n",
        "# Введите решение пункта 3 здесь\n",
        "\n"
      ]
    }
  ],
  "metadata": {
    "colab": {
      "provenance": []
    },
    "kernelspec": {
      "display_name": "Python 3",
      "name": "python3"
    },
    "language_info": {
      "codemirror_mode": {
        "name": "ipython",
        "version": 3
      },
      "file_extension": ".py",
      "mimetype": "text/x-python",
      "name": "python",
      "nbconvert_exporter": "python",
      "pygments_lexer": "ipython3",
      "version": "3.11.3"
    }
  },
  "nbformat": 4,
  "nbformat_minor": 0
}
