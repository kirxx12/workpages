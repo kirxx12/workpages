{
 "cells": [
  {
   "cell_type": "markdown",
   "metadata": {},
   "source": [
    "# **Строки**\n",
    "\n",
    "**Оглавление:**\n",
    "\n",
    "* Перебор строк по индексам и элементам\n",
    "* Срезы\n",
    "* Методы строк\n",
    "* Примеры задач на работу со строками\n",
    "* Домашнее задание"
   ]
  },
  {
   "cell_type": "markdown",
   "metadata": {},
   "source": [
    "***Это служебный блок, не редактируйте его и не забудьте запустить перед выполнением остальных блоков!***"
   ]
  },
  {
   "cell_type": "code",
   "execution_count": 8,
   "metadata": {},
   "outputs": [
    {
     "name": "stdout",
     "output_type": "stream",
     "text": [
      "OUHKW\n",
      "OQXDWNLWOP\n",
      "MWUIRTNKSC\n",
      "MVBVMBLYCF\n"
     ]
    }
   ],
   "source": [
    "from string import ascii_uppercase\n",
    "from random import randint\n",
    "\n",
    "def random_string(n: int) -> str:\n",
    "    s = ''\n",
    "    for i in range(n):\n",
    "        s += ascii_uppercase[randint(0, 25)]\n",
    "    return s\n",
    "\n",
    "example = ''.join([ascii_uppercase[randint(0, 25)] for i in range(5)])\n",
    "dz_1 = random_string(10)\n",
    "dz_2 = random_string(10)\n",
    "dz_3 = random_string(10)\n",
    "\n",
    "print(example, dz_1, dz_2, dz_3, sep='\\n')"
   ]
  },
  {
   "cell_type": "markdown",
   "metadata": {},
   "source": [
    "# **1. Перебор строк по индексам и элементам**\n",
    "\n",
    "Любая строка в python является объектом итерируемым ```(iterable)```, то есть каждый элемент строки имеет свой определенный порядковый номер ```(индекс)```, причем нумерация идет от крайнего левого элемента, начиная с ```0```."
   ]
  },
  {
   "cell_type": "code",
   "execution_count": 9,
   "metadata": {},
   "outputs": [],
   "source": [
    "s = \"abcdef\"\n",
    "#    012345 - индексы"
   ]
  },
  {
   "cell_type": "markdown",
   "metadata": {},
   "source": [
    "Именно это свойство и позволяет производить перебор строк как по индексам, так и по отдельным элементам с использованием цикла ```for```. Так же, мы можем обращаться к отдельным элементам строки по индексу, но НЕ можем изменять их, так как строка является **неизменяемым** объектом.\n",
    "\n",
    "Чтобы перебирать строку по индексам, нам необходимо запустить цикл в промежутке от 0 до индекса последнего элемента, который можно узнать с помощью функции ```len()```, которая возвращает длину итерируемого объекта, при этом, индекс последнего символа в строке расчитывается по формуле ```len(строки) - 1```.\n",
    "\n",
    "Напоминаю, что функция ```range(a, b)``` задает промежуток вида ```[a, b)``` или ```[a, b - 1]```, то есть последний элемент не включен в перебор, а как следствие, в случае работы с строками, мы как раз можем использовать функцию ```len()```.\n"
   ]
  },
  {
   "cell_type": "code",
   "execution_count": 10,
   "metadata": {},
   "outputs": [
    {
     "name": "stdout",
     "output_type": "stream",
     "text": [
      "OUHKW <class 'str'>\n",
      "O\n",
      "U\n",
      "H\n",
      "K\n",
      "W\n"
     ]
    }
   ],
   "source": [
    "print(example, type(example))\n",
    "for i in range(0, len(example)):\n",
    "    print(example[i])"
   ]
  },
  {
   "cell_type": "markdown",
   "metadata": {},
   "source": [
    "При этом, чтобы вывести определенных элемент из строки, сначала мы обращаемся к переменной, которая содержит необходимую нам строку, после названия переменной в **квадратных** скобках мы указываем индекс того элемента, который нам нужен."
   ]
  },
  {
   "cell_type": "code",
   "execution_count": 11,
   "metadata": {},
   "outputs": [
    {
     "name": "stdout",
     "output_type": "stream",
     "text": [
      "OUHKW\n",
      "01234\n",
      "O\n",
      "W\n"
     ]
    }
   ],
   "source": [
    "print(example)\n",
    "print(''.join([str(i) for i in range(len(example))]))\n",
    "print(example[0])\n",
    "print(example[4])"
   ]
  },
  {
   "cell_type": "markdown",
   "metadata": {},
   "source": [
    "Также, индекс может быть указан и отрицательным, при этом, нумерация идет с конца строки, начиная с ```-1```"
   ]
  },
  {
   "cell_type": "code",
   "execution_count": 12,
   "metadata": {},
   "outputs": [
    {
     "name": "stdout",
     "output_type": "stream",
     "text": [
      "OUHKW <class 'str'>\n",
      "Под индексом -1 находится элемент - W\n",
      "Под индексом -2 находится элемент - K\n",
      "Под индексом -3 находится элемент - H\n",
      "Под индексом -4 находится элемент - U\n",
      "Под индексом -5 находится элемент - O\n"
     ]
    }
   ],
   "source": [
    "print(example, type(example))\n",
    "for i in range(1, len(example) + 1):\n",
    "    print(f'Под индексом {i * (-1)} находится элемент - {example[i * (-1)]}')"
   ]
  },
  {
   "cell_type": "markdown",
   "metadata": {},
   "source": [
    "Так же, мы можем запустить перебор непосредственно по элементам строки:"
   ]
  },
  {
   "cell_type": "code",
   "execution_count": 14,
   "metadata": {},
   "outputs": [
    {
     "name": "stdout",
     "output_type": "stream",
     "text": [
      "OQTWV <class 'str'>\n",
      "O\n",
      "Q\n",
      "T\n",
      "W\n",
      "V\n"
     ]
    }
   ],
   "source": [
    "print(example, type(example))\n",
    "for i in example:\n",
    "    print(i)"
   ]
  },
  {
   "cell_type": "markdown",
   "metadata": {},
   "source": [
    "В данном случае ```i``` выступает не в качестве индекса, а в качестве элемента строки."
   ]
  },
  {
   "cell_type": "markdown",
   "metadata": {},
   "source": [
    "# **2. Срезы**\n",
    "\n",
    "Срезом называется подстрока, которая характиризуется индексом начала, индексом конца и шагом, с которым берутся элементы из начальной строки.\n",
    "```S[START:END:STEP]```, где ```START``` - индекс, с которого начинается подстрока, ```END``` - индекс, которым кончается подстрока, причем он в подстроку не включен в нее, ф ```STEP``` - шаг чтения."
   ]
  },
  {
   "cell_type": "code",
   "execution_count": 17,
   "metadata": {},
   "outputs": [
    {
     "name": "stdout",
     "output_type": "stream",
     "text": [
      "ASYOW <class 'str'>\n",
      "SYO\n",
      "SO\n"
     ]
    }
   ],
   "source": [
    "print(example, type(example))\n",
    "s = example[1:4:1]\n",
    "print(s)\n",
    "s = example[1:4:2]\n",
    "print(s)"
   ]
  },
  {
   "cell_type": "markdown",
   "metadata": {},
   "source": [
    "При этом, каждый из параметров ```START```, ```END``` или ```STEP``` имеют дефолтное значение, которое используется, в случае, если параметр не указан.\n",
    "\n",
    "```START_default``` - самое начало строки\n",
    "\n",
    "```END_default``` - конец строки\n",
    "\n",
    "```STEP_default``` - шаг величиной в 1\n"
   ]
  },
  {
   "cell_type": "code",
   "execution_count": 20,
   "metadata": {},
   "outputs": [
    {
     "name": "stdout",
     "output_type": "stream",
     "text": [
      "ASYOW <class 'str'>\n",
      "ASYOW - Срез - [::]\n",
      "SO - Срез - [1::2]\n",
      "YO - Срез - [-3:-1:]\n"
     ]
    }
   ],
   "source": [
    "print(example, type(example))\n",
    "s = example[::] # В данном случае ни один из параметров не указан, а значит берутся дефолтные значения для каждого из параметров\n",
    "print(s, \"- Срез - [::]\")\n",
    "s = example[1::2]\n",
    "print(s, \"- Срез - [1::2]\")\n",
    "s = example[-3:-1:]\n",
    "print(s, \"- Срез - [-3:-1:]\")"
   ]
  },
  {
   "cell_type": "markdown",
   "metadata": {},
   "source": [
    "В срезе так же можно использовать отрицательные индексы, главное не нарушать логику! Если параметр ```START``` указывает на элемент правее, чем ```END```, это вызовет ошибку, если шаг указан не отрицательным!"
   ]
  },
  {
   "cell_type": "code",
   "execution_count": 23,
   "metadata": {},
   "outputs": [
    {
     "name": "stdout",
     "output_type": "stream",
     "text": [
      "ASYOW <class 'str'>\n",
      " Тут ошибка!\n",
      "WO А тут ошибки нет\n"
     ]
    }
   ],
   "source": [
    "print(example, type(example))\n",
    "s = example[-1:-3:]\n",
    "print(s, \"Тут ошибка!\")\n",
    "s = example[-1:-3:-1]\n",
    "print(s, \"А тут ошибки нет\")\n",
    "# В данном случае ошибки не возникает, так как шаг указан отрицательным,\n",
    "# а значит, переменная START не увеличивается, а уменьшается и в итоге приходит к значению END"
   ]
  },
  {
   "cell_type": "markdown",
   "metadata": {},
   "source": [
    "# **3. Методы строк**\n",
    "\n",
    "S.split()\n",
    "\n",
    "S.upper()\n",
    "\n",
    "S.lower()\n",
    "\n",
    "S.capitalize()\n",
    "\n",
    "S.find()\n",
    "\n",
    "S.rfind()\n",
    "\n",
    "S.replace()\n",
    "\n",
    "S.strip()\n",
    "\n",
    "S.lstrip()\n",
    "\n",
    "S.rstrip()\n",
    "\n",
    "S.count()\n"
   ]
  },
  {
   "cell_type": "markdown",
   "metadata": {},
   "source": [
    "# Метод ```S.split(arg[, [max]])```\n",
    "Метод split позволяет разделить строку по указанному в атрибуте символу/последовательности символов, при этом создается массив, состоящий из оставшихся строк. При этом, если мы указали атрибут arg, мы можем указать и значение для атрибута max, который отвечает за то, сколько разделений будет сделано.\n",
    "Разберем на примере: "
   ]
  },
  {
   "cell_type": "code",
   "execution_count": 11,
   "metadata": {},
   "outputs": [
    {
     "name": "stdout",
     "output_type": "stream",
     "text": [
      "BY YZ ZH HL LT TZ ZC CA AQ - Строка приведенная для примера, в ней слоги разделяются пробелами\n",
      "Если применить на такую строку метод .split(), то мы получим список, состоящий из слогов\n",
      "\n",
      "['BY', 'YZ', 'ZH', 'HL', 'LT', 'TZ', 'ZC', 'CA', 'AQ'] - Результат выполнения метода split с аргументом == ''\n",
      "При этом, у атрибута arg есть и дефолтное значение, которое так же равно пробелу\n",
      "\n",
      "['BY', 'YZ', 'ZH', 'HL', 'LT', 'TZ', 'ZC', 'CA', 'AQ'] - Результат без явного указания атрибута arg\n",
      "\n",
      "['BY', 'YZ', 'ZH HL LT TZ ZC CA AQ'] - В данном случае мы так же указали значение и для атрибута max, чему равен атрибут max, столько разделений и производится, в данном случае их - 2\n"
     ]
    }
   ],
   "source": [
    "from string import ascii_uppercase\n",
    "from random import randint\n",
    "\n",
    "# Здесь просто создается строка для примера, не обращайте на эти 2 строки внимания\n",
    "example = ''.join([ascii_uppercase[randint(0, len(ascii_uppercase) - 1)] for i in range(10)])\n",
    "example = ''.join([example[i:i + 2] + ' ' for i in range(0, len(example) - 1)]).strip()\n",
    "\n",
    "\n",
    "print(f'{example} - Строка приведенная для примера, в ней слоги разделяются пробелами\\nЕсли применить на такую строку метод .split(), то мы получим список, состоящий из слогов')\n",
    "example_1 = example.split(\" \") # В качестве аргумента метода split мы указали пробел, так как именно он является разделителем в нашем примере\n",
    "print(f\"\\n{example_1} - Результат выполнения метода split с аргументом == ''\\nПри этом, у атрибута arg есть и дефолтное значение, которое так же равно пробелу\")\n",
    "example_2 = example.split()\n",
    "print(f\"\\n{example_2} - Результат без явного указания атрибута arg\")\n",
    "example_3 = example.split(' ', 2)\n",
    "print(f\"\\n{example_3} - В данном случае мы так же указали значение и для атрибута max, чему равен атрибут max, столько разделений и производится, в данном случае их - 2\")"
   ]
  },
  {
   "cell_type": "markdown",
   "metadata": {},
   "source": [
    "# Методы S.upper(), S.lower() и S.capitalize()\n",
    "***Каждый из данных методов отвечает за регистр букв (строчные или заглавные буквы).***\n",
    "\n",
    "Метод ```.upper()``` переводит все строчные буквы в строке в заглавный регистр, при этом не меняя те символы, которые уже находились в соответствующем регистре.\n",
    "\n",
    "Метод ```.lower()``` позволяет сделать обратное действие, то есть он переводит все заглавные буквы в строке в строчный регистр.\n",
    "\n",
    "Метод ```.capitalize()``` начинает строку с заглавной буквы."
   ]
  },
  {
   "cell_type": "markdown",
   "metadata": {},
   "source": [
    "**Примеры использования методов:**\n"
   ]
  },
  {
   "cell_type": "code",
   "execution_count": 1,
   "metadata": {},
   "outputs": [
    {
     "name": "stdout",
     "output_type": "stream",
     "text": [
      "HELLO WORLD\n",
      "hello world\n",
      "Hello world\n"
     ]
    }
   ],
   "source": [
    "s = 'hello world'\n",
    "s = s.upper()\n",
    "print(s)\n",
    "s = s.lower()\n",
    "print(s)\n",
    "s = s.capitalize()\n",
    "print(s)"
   ]
  },
  {
   "cell_type": "markdown",
   "metadata": {},
   "source": [
    "# Метод S.find(sub[, start[, end]]) и S.rfind(sub[, start[, end]])\n",
    "\n",
    "Метод ```.find()``` позволяет найти индекс ПЕРВОГО вхождения подстроки ***sub*** в строку ***S***. При этом, могут быть указаны параметры ```start``` и ```end```, которые отвечают за область поиска. \n",
    "\n",
    "Параметр ***start*** индекс начала поиска, а ***end*** - индекс конца области поиска.\n",
    "\n",
    "Каждый из этих параметров является необязательным, их можно не указывать. Но тогда поиск будет происходить по всей строке."
   ]
  },
  {
   "cell_type": "code",
   "execution_count": 2,
   "metadata": {},
   "outputs": [
    {
     "name": "stdout",
     "output_type": "stream",
     "text": [
      "1\n",
      "-1\n"
     ]
    }
   ],
   "source": [
    "s = 'Example'\n",
    "print(s.find('xam')) # Получен результат - 1, так как первая слева подстрока 'xam' в s начинается с элемента под индексом 1\n",
    "print(s.find('xam', 2, 6)) # Здесь поиск происходит с элемента под индексом 2 по элемент под индексом 6\n",
    "# При этом результат вывода - -1, так как такой подстроки в промежутке [2, 6] нет"
   ]
  },
  {
   "cell_type": "markdown",
   "metadata": {},
   "source": [
    "Метод ```.rfind()``` позволяет найти индекс ПОСЛЕДНЕГО вхождения подстроки ***sub*** в строку ***S***. При этом, могут быть указаны параметры ```start``` и ```end```, которые отвечают за область поиска. \n",
    "\n",
    "Параметр ***start*** индекс начала поиска, а ***end*** - индекс конца области поиска.\n",
    "\n",
    "Каждый из этих параметров является необязательным, их можно не указывать. Но тогда поиск будет происходить по всей строке."
   ]
  },
  {
   "cell_type": "code",
   "execution_count": 3,
   "metadata": {},
   "outputs": [
    {
     "name": "stdout",
     "output_type": "stream",
     "text": [
      "8\n",
      "-1\n"
     ]
    }
   ],
   "source": [
    "s = 'ExampleExample'\n",
    "#    0123456789...\n",
    "print(s.rfind('xam')) # Получен результат 1, так как последняя подстрока 'xam' в s начинается с элемента под индексом 8\n",
    "print(s.rfind('xam', 2, 5)) # Здесь поиск происходит с элемента под индексом 2 по элемент под индексом 6\n",
    "# При этом результат вывода -1, так как такой подстроки в промежутке [2, 5] нет"
   ]
  },
  {
   "cell_type": "markdown",
   "metadata": {},
   "source": [
    "# Метод S.replace(old, new[, count])\n",
    "\n",
    "Метод ```.replace()``` заменяет все вхождения подстроки ***old*** в строке ***S*** на значение равное подстроке ***new***.\n",
    "\n",
    "Параметр ***old*** отвечает за то, какие подстроки мы заменяем.\n",
    "\n",
    "Параметр ***new*** отвечает за то, на какие подстроки мы заменяем ***old***.\n",
    "\n",
    "Параметр ***count*** отвечает за то, сколько замен должно быть произведено при счете слева-направо.\n",
    "\n",
    "**Пример использования:**"
   ]
  },
  {
   "cell_type": "code",
   "execution_count": 7,
   "metadata": {},
   "outputs": [
    {
     "name": "stdout",
     "output_type": "stream",
     "text": [
      "c c c\n",
      "cd cd ab\n"
     ]
    }
   ],
   "source": [
    "s = 'ab ab ab'\n",
    "s_1 = s.replace('ab', 'c') # Все подстроки ab мы заменяем на c\n",
    "print(s_1)\n",
    "s_2 = s.replace('ab', 'cd', 2) # Дваждый заменяем первые две подстроки ab на с\n",
    "print(s_2)"
   ]
  },
  {
   "cell_type": "markdown",
   "metadata": {},
   "source": [
    "# Методы S.strip([chars]), S.lstrip([chars]) и S.rstrip([chars])\n",
    "\n",
    "Метод ```.strip()``` убирает все пробелы из начала и конца строки, если не передан атрибут ***chars***. \n",
    "\n",
    "При этом, атрибут ***chars*** задает символ/последовательности символов, которые будут удалены из начала строки \n",
    "\n",
    "Параметр ***old*** отвечает за то, какие подстроки мы заменяем.\n",
    "\n",
    "Параметр ***new*** отвечает за то, на какие подстроки мы заменяем ***old***.\n",
    "\n",
    "Параметр ***count*** отвечает за то, сколько замен должно быть произведено при счете слева-направо.\n",
    "\n",
    "**Пример использования:**"
   ]
  },
  {
   "cell_type": "markdown",
   "metadata": {},
   "source": []
  }
 ],
 "metadata": {
  "kernelspec": {
   "display_name": "Python 3",
   "language": "python",
   "name": "python3"
  },
  "language_info": {
   "codemirror_mode": {
    "name": "ipython",
    "version": 3
   },
   "file_extension": ".py",
   "mimetype": "text/x-python",
   "name": "python",
   "nbconvert_exporter": "python",
   "pygments_lexer": "ipython3",
   "version": "3.11.3"
  },
  "orig_nbformat": 4
 },
 "nbformat": 4,
 "nbformat_minor": 2
}
